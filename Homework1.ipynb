{
  "nbformat": 4,
  "nbformat_minor": 0,
  "metadata": {
    "colab": {
      "provenance": []
    },
    "kernelspec": {
      "name": "python3",
      "display_name": "Python 3"
    },
    "language_info": {
      "name": "python"
    }
  },
  "cells": [
    {
      "cell_type": "markdown",
      "source": [
        "# **Algorithmic Methods of Data Mining**\n",
        "\n",
        "\n",
        "#### Andrea Polidori\n",
        "<polidori.2143429@studenti.uniroma1.it>\n",
        "\n",
        "## **#1 Homework: HackerRank and AWS**"
      ],
      "metadata": {
        "id": "syGBRJTc4d4c"
      }
    },
    {
      "cell_type": "markdown",
      "source": [
        "### **Problema 1**\n",
        "\n"
      ],
      "metadata": {
        "id": "ojBdGFkl4gwt"
      }
    },
    {
      "cell_type": "markdown",
      "source": [
        "#### Esercizio 1.1.1\n",
        "The above code will print Hello, World! on your screen. Try it yourself in the editor below!"
      ],
      "metadata": {
        "id": "gWcSNsMi4tzL"
      }
    },
    {
      "cell_type": "code",
      "execution_count": null,
      "metadata": {
        "id": "NkjrOLVQ4cdS"
      },
      "outputs": [],
      "source": [
        "print(\"Hello, World!\")"
      ]
    },
    {
      "cell_type": "markdown",
      "source": [
        "#### Esercizio 1.1.2\n",
        "Given an integer, n, perform the following conditional actions:\n",
        "\n",
        "If  is odd, print Weird.\n",
        "If  is even and in the inclusive range of to, print Not Weird.\n",
        "If  is even and in the inclusive range of to, print Weird.\n",
        "If  is even and greater than, print Not Weird.\n"
      ],
      "metadata": {
        "id": "QTPT66YZ5szK"
      }
    },
    {
      "cell_type": "code",
      "execution_count": null,
      "metadata": {
        "id": "FRDC3PqN5szK"
      },
      "outputs": [],
      "source": [
        "    n = int(input().strip())\n",
        "    if(n%2!=0):\n",
        "        print(\"Weird\")\n",
        "    else:\n",
        "        if(n>=2 and n<=5):\n",
        "            print(\"Not Weird\")\n",
        "        elif(n>=6 and n<=20):\n",
        "            print(\"Weird\")\n",
        "        elif(n>20):\n",
        "            print(\"Not Weird\")"
      ]
    },
    {
      "cell_type": "markdown",
      "source": [
        "#### Esercizio 1.1.3\n",
        "The provided code stub reads two integers from STDIN, a and b. Add code to print three lines where:\n",
        "\n",
        "The first line contains the sum of the two numbers.\n",
        "The second line contains the difference of the two numbers (first - second).\n",
        "The third line contains the product of the two numbers."
      ],
      "metadata": {
        "id": "cU9yZH7H5uFX"
      }
    },
    {
      "cell_type": "code",
      "execution_count": null,
      "metadata": {
        "id": "SPQDrOhe5uFX"
      },
      "outputs": [],
      "source": [
        "    a = int(input())\n",
        "    b = int(input())\n",
        "    print(a+b)\n",
        "    print(a-b)\n",
        "    print(a*b)"
      ]
    },
    {
      "cell_type": "markdown",
      "source": [
        "#### Esercizio 1.1.4\n",
        "The provided code stub reads two integers,  and , from STDIN.\n",
        "\n",
        "Add logic to print two lines. The first line should contain the result of integer division,  // . The second line should contain the result of float division,  / .\n",
        "\n",
        "No rounding or formatting is necessary."
      ],
      "metadata": {
        "id": "EkZ5ZclY5utt"
      }
    },
    {
      "cell_type": "code",
      "execution_count": null,
      "metadata": {
        "id": "qmVmnkxb5utt"
      },
      "outputs": [],
      "source": [
        "    a = int(input())\n",
        "    b = int(input())\n",
        "    print(a//b)\n",
        "    print(a/b)\n"
      ]
    },
    {
      "cell_type": "markdown",
      "source": [
        "#### Esercizio 1.1.5\n",
        "The provided code stub reads and integer, n, from STDIN. For all non-negative integers i<n, print i^2"
      ],
      "metadata": {
        "id": "gZZNat8B5vY3"
      }
    },
    {
      "cell_type": "code",
      "execution_count": null,
      "metadata": {
        "id": "v2L1EHa45vY3"
      },
      "outputs": [],
      "source": [
        "    n = int(input())\n",
        "    if n>=1 and n<=20:\n",
        "        nn=range(0,n)\n",
        "        for i in nn:\n",
        "            print(i**2)"
      ]
    },
    {
      "cell_type": "markdown",
      "source": [
        "#### Esercizio 1.1.6\n",
        "Given a year, determine whether it is a leap year. If it is a leap year, return the Boolean True, otherwise return False.\n",
        "\n",
        "Note that the code stub provided reads from STDIN and passes arguments to the is_leap function. It is only necessary to complete the is_leap function."
      ],
      "metadata": {
        "id": "jqU6_5mj5wOV"
      }
    },
    {
      "cell_type": "code",
      "execution_count": null,
      "metadata": {
        "id": "CU5JdCAM5wOV"
      },
      "outputs": [],
      "source": [
        "    leap = False\n",
        "    if (year%4==0):\n",
        "        leap=True\n",
        "        if (year%100==0):\n",
        "            leap=False\n",
        "            if (year%400==0):\n",
        "                leap=True\n",
        "    return leap\n"
      ]
    },
    {
      "cell_type": "markdown",
      "source": [
        "#### Esercizio 1.1.7\n",
        "Print the list of integers from  through  as a string, without spaces."
      ],
      "metadata": {
        "id": "bSqHdN5G5w1L"
      }
    },
    {
      "cell_type": "code",
      "execution_count": null,
      "metadata": {
        "id": "G-y1GTo75w1L"
      },
      "outputs": [],
      "source": [
        "    n = int(input())\n",
        "    if (n>=1 and n<=150):\n",
        "      for i in range(1,n+1):\n",
        "        print(i, end=\"\")\n"
      ]
    },
    {
      "cell_type": "markdown",
      "source": [
        "#### Esercizio 1.2.1\n",
        "Print the list in lexicographic increasing order."
      ],
      "metadata": {
        "id": "77RVqU0j5xCG"
      }
    },
    {
      "cell_type": "code",
      "execution_count": null,
      "metadata": {
        "id": "fqPySrOj5xCH"
      },
      "outputs": [],
      "source": [
        "    x = int(input())\n",
        "    y = int(input())\n",
        "    z = int(input())\n",
        "    n = int(input())\n",
        "    lista=[]\n",
        "    for i in range(0, x+1):\n",
        "        for j in range(0, y+1):\n",
        "            for k in range(0, z+1):\n",
        "                if (i+j+k!=n):\n",
        "                    lista.append([i,j,k])\n",
        "    print(lista)\n"
      ]
    },
    {
      "cell_type": "markdown",
      "source": [
        "#### Esercizio 1.2.2\n",
        "Given the participants' score sheet for your University Sports Day, you are required to find the runner-up score. You are given  scores. Store them in a list and find the score of the runner-up."
      ],
      "metadata": {
        "id": "mD3vymiO5xNA"
      }
    },
    {
      "cell_type": "code",
      "execution_count": null,
      "metadata": {
        "id": "LHcRgtb65xNB"
      },
      "outputs": [],
      "source": [
        "n = int(input())\n",
        "arr = map(int, input().split())"
      ]
    },
    {
      "cell_type": "markdown",
      "source": [
        "#### Esercizio 1.2.3\n",
        "Given the names and grades for each student in a class of N students, store them in a nested list and print the name(s) of any student(s) having the second lowest grade."
      ],
      "metadata": {
        "id": "-ZSMCkHU5xUs"
      }
    },
    {
      "cell_type": "code",
      "execution_count": null,
      "metadata": {
        "id": "bzetxTgf5xUs"
      },
      "outputs": [],
      "source": [
        "    studenti=[]\n",
        "    for _ in range(int(input())):\n",
        "        name = input()\n",
        "        score = float(input())\n",
        "        studenti.append([name, score])\n",
        "    scores=list(set(stud[1] for stud in studenti))\n",
        "    score_ord=sorted(scores)\n",
        "    student_res=[stud for stud in studenti if stud[1]==score_ord[1]]\n",
        "    student_res.sort()\n",
        "    for stud in student_res:\n",
        "      print(stud[0])\n"
      ]
    },
    {
      "cell_type": "markdown",
      "source": [
        "#### Esercizio 1.2.4\n",
        "The provided code stub will read in a dictionary containing key/value pairs of name:[marks] for a list of students. Print the average of the marks array for the student name provided, showing 2 places after the decimal."
      ],
      "metadata": {
        "id": "C2fpPGim5yKP"
      }
    },
    {
      "cell_type": "code",
      "execution_count": null,
      "metadata": {
        "id": "pN__kwOU5yKQ"
      },
      "outputs": [],
      "source": [
        "    n = int(input())\n",
        "    student_marks = {}\n",
        "    for _ in range(n):\n",
        "        name, *line = input().split()\n",
        "        scores = list(map(float, line))\n",
        "        student_marks[name] = scores\n",
        "    query_name = input()\n",
        "    lista=list(student_marks[query_name])\n",
        "    res=sum(student_marks[query_name])/3\n",
        "    print(format(res, \".2f\"))"
      ]
    },
    {
      "cell_type": "markdown",
      "source": [
        "#### Esercizio 1.2.5\n",
        "For each command of type print, print the list on a new line."
      ],
      "metadata": {
        "id": "kf4n1OY65yWb"
      }
    },
    {
      "cell_type": "code",
      "execution_count": null,
      "metadata": {
        "id": "CPJoXTZp5yWb"
      },
      "outputs": [],
      "source": [
        "    N = int(input())\n",
        "    lista=[];\n",
        "    for _ in range(N):\n",
        "        funz=input().split();\n",
        "        if funz[0] == \"insert\":\n",
        "            lista.insert(int(funz[1]),int(funz[2]))\n",
        "        elif funz[0] == \"print\":\n",
        "            print(lista)\n",
        "        elif funz[0] == \"remove\":\n",
        "            lista.remove(int(funz[1]))\n",
        "        elif funz[0] == \"append\":\n",
        "            lista.append(int(funz[1]))\n",
        "        elif funz[0] == \"sort\":\n",
        "            lista.sort();\n",
        "        elif funz[0] == \"pop\":\n",
        "            lista.pop();\n",
        "        else:\n",
        "            lista.reverse();\n"
      ]
    },
    {
      "cell_type": "markdown",
      "source": [
        "#### Esercizio 1.2.6\n",
        "Given an integer, n, and n space-separated integers as input, create a tuple, t, of those n integers. Then compute and print the result of hash(t)."
      ],
      "metadata": {
        "id": "loBnLkjt5yh6"
      }
    },
    {
      "cell_type": "code",
      "execution_count": null,
      "metadata": {
        "id": "PEKRq75z5yh6"
      },
      "outputs": [],
      "source": [
        "    n = int(input())\n",
        "    integer_list = map(int, input().split())\n",
        "    integer_list=tuple(integer_list)\n",
        "    print(hash(integer_list))"
      ]
    },
    {
      "cell_type": "markdown",
      "source": [
        "#### Esercizio 1.3.1\n",
        "You are given a string and your task is to swap cases. In other words, convert all lowercase letters to uppercase letters and vice versa."
      ],
      "metadata": {
        "id": "YDE7Jmp45yp4"
      }
    },
    {
      "cell_type": "code",
      "execution_count": null,
      "metadata": {
        "id": "BF3RPzjy5yp4"
      },
      "outputs": [],
      "source": [
        "    new=\"\"\n",
        "    for i in s:\n",
        "      if i.isupper():\n",
        "        new+=i.lower()\n",
        "      else:\n",
        "        new+=i.upper()\n",
        "    return new\n"
      ]
    },
    {
      "cell_type": "markdown",
      "source": [
        "#### Esercizio 1.3.2\n",
        "You are given a string. Split the string on a \" \" (space) delimiter and join using a - hyphen.\n"
      ],
      "metadata": {
        "id": "R1fFGeso5yux"
      }
    },
    {
      "cell_type": "code",
      "execution_count": null,
      "metadata": {
        "id": "gDHU3yFt5yux"
      },
      "outputs": [],
      "source": [
        "def split_and_join(line):\n",
        "    new=\"\"\n",
        "    new=line.split(\" \")\n",
        "    newdef=\"-\".join(new)\n",
        "    return newdef\n",
        "\n",
        "if __name__ == '__main__':\n",
        "    line = input()\n",
        "    result = split_and_join(line)\n",
        "    print(result)\n"
      ]
    },
    {
      "cell_type": "markdown",
      "source": [
        "#### Esercizio 1.3.3\n",
        "You are given the firstname and lastname of a person on two different lines."
      ],
      "metadata": {
        "id": "3gz7hKC-5yxv"
      }
    },
    {
      "cell_type": "code",
      "execution_count": null,
      "metadata": {
        "id": "QtZ8rNvC5yxw"
      },
      "outputs": [],
      "source": [
        "def print_full_name(first, last):\n",
        "    print(\"Hello {} {}! You just delved into python.\".format(first, last))\n"
      ]
    },
    {
      "cell_type": "markdown",
      "source": [
        "#### Esercizio 1.3.4\n",
        "We have seen that lists are mutable (they can be changed), and tuples are immutable (they cannot be changed).\n",
        "\n",
        "Let's try to understand this with an example.\n",
        "\n",
        "You are given an immutable string, and you want to make changes to it."
      ],
      "metadata": {
        "id": "u3WfsLbm5y1G"
      }
    },
    {
      "cell_type": "code",
      "execution_count": null,
      "metadata": {
        "id": "48VKR0E05y1H"
      },
      "outputs": [],
      "source": [
        "def mutate_string(string, position, character):\n",
        "    new=\"\"\n",
        "    new=string[:position]+character+string[position+1:]\n",
        "    return new\n"
      ]
    },
    {
      "cell_type": "markdown",
      "source": [
        "#### Esercizio 1.3.5\n",
        "In this challenge, the user enters a string and a substring. You have to print the number of times that the substring occurs in the given string. String traversal will take place from left to right, not from right to left."
      ],
      "metadata": {
        "id": "SR20QPnk5y4S"
      }
    },
    {
      "cell_type": "code",
      "execution_count": null,
      "metadata": {
        "id": "MH8G0e275y4S"
      },
      "outputs": [],
      "source": [
        "def count_substring(string, sub_string):\n",
        "    counter=0\n",
        "    for _ in range(len(string)):\n",
        "      if (string.find(sub_string)!=-1):\n",
        "        counter+=1\n",
        "        string=string[string.find(sub_string)+1:]\n",
        "    return counter\n"
      ]
    },
    {
      "cell_type": "markdown",
      "source": [
        "#### Esercizio 1.3.6\n",
        "You are given a string S.\n",
        "Your task is to find out if the string S contains: alphanumeric characters, alphabetical characters, digits, lowercase and uppercase characters."
      ],
      "metadata": {
        "id": "hM5wW0hA5y7d"
      }
    },
    {
      "cell_type": "code",
      "execution_count": null,
      "metadata": {
        "id": "7x8u3hvJ5y7d"
      },
      "outputs": [],
      "source": [
        "    s = input()\n",
        "    print(any(char.isalnum() for char in s))\n",
        "    print(any(char.isalpha() for char in s))\n",
        "    print(any(char.isdigit() for char in s))\n",
        "    print(any(char.islower() for char in s))\n",
        "    print(any(char.isupper() for char in s))\n"
      ]
    },
    {
      "cell_type": "markdown",
      "source": [
        "\n",
        "#### Esercizio 1.3.7\n",
        "You are given a partial code that is used for generating the HackerRank Logo of variable thickness.\n",
        "Your task is to replace the blank (______) with rjust, ljust or center."
      ],
      "metadata": {
        "id": "MllNbSUx5y-Y"
      }
    },
    {
      "cell_type": "code",
      "execution_count": null,
      "metadata": {
        "id": "N8D0fIvI5y-Y"
      },
      "outputs": [],
      "source": [
        "thickness = int(input())\n",
        "c = 'H'\n",
        "if(thickness>0 and thickness<50):\n",
        "  if(thickness%2!=0):\n",
        "    for i in range(thickness):\n",
        "        print((c*i).rjust(thickness-1)+c+(c*i).ljust(thickness-1))\n",
        "\n",
        "    for i in range(thickness+1):  print((c*thickness).center(thickness*2)+(c*thickness).center(thickness*6))\n",
        "\n",
        "    for i in range((thickness+1)//2):\n",
        "        print((c*thickness*5).center(thickness*6))\n",
        "\n",
        "    for i in range(thickness+1): print((c*thickness).center(thickness*2)+(c*thickness).center(thickness*6))\n",
        "\n",
        "    for i in range(thickness):  print(((c*(thickness-i-1)).rjust(thickness)+c+(c*(thickness-i-1)).ljust(thickness)).rjust(thickness*6))\n"
      ]
    },
    {
      "cell_type": "markdown",
      "source": [
        "#### Esercizio 1.3.8\n",
        "Output the design pattern."
      ],
      "metadata": {
        "id": "c26037nR5zBQ"
      }
    },
    {
      "cell_type": "code",
      "execution_count": null,
      "metadata": {
        "id": "PEeVkAe55zBQ"
      },
      "outputs": [],
      "source": [
        "N, M=map(int,input().split())\n",
        "if (M==3*N):\n",
        "  for i in range(N//2):\n",
        "    j = int((2*i)+1)\n",
        "    print(('.|.'*j).center(M, '-'))\n",
        "  print('WELCOME'.center(M,'-'))\n",
        "  for i in reversed(range(N//2)):\n",
        "    j = int((2*i)+1)\n",
        "    print(('.|.'*j).center(M, '-'))\n",
        "else:\n",
        "  print(\"Invalid Data\")\n"
      ]
    },
    {
      "cell_type": "markdown",
      "source": [
        "#### Esercizio 1.3.9\n",
        "You are given a string s and width w.\n",
        "Your task is to wrap the string into a paragraph of width w."
      ],
      "metadata": {
        "id": "HY5dJ3iU5zEj"
      }
    },
    {
      "cell_type": "code",
      "execution_count": null,
      "metadata": {
        "id": "b6LaZWZx5zEj"
      },
      "outputs": [],
      "source": [
        "def wrap(string, max_width):\n",
        "    return textwrap.fill(string, max_width)\n",
        "\n"
      ]
    },
    {
      "cell_type": "markdown",
      "source": [
        "#### Esercizio 1.3.10\n",
        "Given an integer, n, print the following values for each integer i from 1 to n:\n",
        "\n",
        "Decimal;\n",
        "Octal;\n",
        "Hexadecimal(capitalized);\n",
        "Binary.\n"
      ],
      "metadata": {
        "id": "x3xf3yL75zHf"
      }
    },
    {
      "cell_type": "code",
      "execution_count": null,
      "metadata": {
        "id": "pUW96YPk5zHf"
      },
      "outputs": [],
      "source": [
        "def print_formatted(number):\n",
        "    for i in range(1, number+1):\n",
        "        decimal = str(i)\n",
        "        octal = oct(i)[2:]\n",
        "        hexadecimal = hex(i)[2:].upper()\n",
        "        binary = bin(i)[2:]\n",
        "        width = len(bin(number)[2:])\n",
        "        print(decimal.rjust(width),octal.rjust(width),hexadecimal.rjust(width),binary.rjust(width))\n"
      ]
    },
    {
      "cell_type": "markdown",
      "source": [
        "#### Esercizio 1.3.11\n",
        "You are given an integer, N. Your task is to print an alphabet rangoli of size N. (Rangoli is a form of Indian folk art based on creation of patterns.)"
      ],
      "metadata": {
        "id": "cyFDf3su5zK4"
      }
    },
    {
      "cell_type": "code",
      "execution_count": null,
      "metadata": {
        "id": "edOLTPpu5zK4"
      },
      "outputs": [],
      "source": [
        "def print_rangoli(size):\n",
        "    a = \"abcdefghijklmnopqrstuvwxyz\"\n",
        "    riga = []\n",
        "    for row in range(size):\n",
        "        print_ = \"-\".join(a[row:size])\n",
        "        riga.append(print_[::-1] + print_[1:])\n",
        "    width = len(riga[0])\n",
        "    for row in range(size-1, 0, -1):\n",
        "        print(riga[row].center(width, '-'))\n",
        "\n",
        "    for row in range(size):\n",
        "        print(riga[row].center(width, '-'))\n"
      ]
    },
    {
      "cell_type": "markdown",
      "source": [
        "#### Esercizio 1.3.12\n",
        "Given a full name, your task is to capitalize the name appropriately."
      ],
      "metadata": {
        "id": "WcbYZdti5zOQ"
      }
    },
    {
      "cell_type": "code",
      "execution_count": null,
      "metadata": {
        "id": "V1C1nERf5zOQ"
      },
      "outputs": [],
      "source": [
        "def solve(s):\n",
        "    ans = s.split(' ')\n",
        "    ans = (((i.capitalize() for i in ans)))\n",
        "    res=' '.join(ans)\n",
        "    return res"
      ]
    },
    {
      "cell_type": "markdown",
      "source": [
        "#### Esercizio 1.3.13\n",
        "Both players are given the same string, S.\n",
        "Both players have to make substrings using the letters of the string S.\n",
        "Stuart has to make words starting with consonants.\n",
        "Kevin has to make words starting with vowels.\n",
        "The game ends when both players have made all possible substrings."
      ],
      "metadata": {
        "id": "oNJntI9x5zRl"
      }
    },
    {
      "cell_type": "code",
      "execution_count": null,
      "metadata": {
        "id": "XC53OpNo5zRl"
      },
      "outputs": [],
      "source": [
        "def minion_game(string):\n",
        "    vocali, consonanti=0, 0\n",
        "    if (len(string)>0 and len(string)<=1000000):\n",
        "      for i in range(len(string)):\n",
        "          if string[i] in 'AEIOU':\n",
        "            vocali+=(len(string)-i)\n",
        "          else:\n",
        "            consonanti+=(len(string)-i)\n",
        "      if vocali < consonanti:\n",
        "          print('Stuart {}'.format(consonanti))\n",
        "      elif vocali > consonanti:\n",
        "          print('Kevin {}'.format(vocali))\n",
        "      else:\n",
        "          print('Draw')"
      ]
    },
    {
      "cell_type": "markdown",
      "source": [
        "#### Esercizio 1.3.14\n",
        "Merge The Tools"
      ],
      "metadata": {
        "id": "Qw1xpecv5zUb"
      }
    },
    {
      "cell_type": "code",
      "execution_count": null,
      "metadata": {
        "id": "Iy6vl-gW5zUb"
      },
      "outputs": [],
      "source": [
        "NULL"
      ]
    },
    {
      "cell_type": "markdown",
      "source": [
        "#### Esercizio 1.4.1\n",
        "A set is an unordered collection of elements without duplicate entries.\n",
        "When printed, iterated or converted into a sequence, its elements will appear in an arbitrary order."
      ],
      "metadata": {
        "id": "hbDVzMF55zXY"
      }
    },
    {
      "cell_type": "code",
      "execution_count": null,
      "metadata": {
        "id": "LQ-7IIAb5zXZ"
      },
      "outputs": [],
      "source": [
        "def average(array):\n",
        "    array=set(array)\n",
        "    n=len(array)\n",
        "    aver=float(sum(array)/n)\n",
        "    return aver\n"
      ]
    },
    {
      "cell_type": "markdown",
      "source": [
        "#### Esercizio 1.4.2\n",
        "No Idea! Challenge"
      ],
      "metadata": {
        "id": "iKG_TNAQ5zao"
      }
    },
    {
      "cell_type": "code",
      "execution_count": null,
      "metadata": {
        "id": "7Vgj_MER5zap"
      },
      "outputs": [],
      "source": [
        "n, m = map(int, input().split())\n",
        "if (n>=1 and n<=100000):\n",
        "    if(m>=1 and m<=100000):\n",
        "        res=0\n",
        "        arr = map(int, input().split())\n",
        "        A = set(map(int, input().split()))\n",
        "        B = set(map(int, input().split()))\n",
        "        for i in arr:\n",
        "            if i in A:\n",
        "              res+=1\n",
        "            if i in B:\n",
        "              res-=1\n",
        "\n",
        "        print(res)\n",
        "    else:\n",
        "        print(\"Invalid Data\")\n",
        "else:\n",
        "    print(\"Invalid Data\")\n"
      ]
    },
    {
      "cell_type": "markdown",
      "source": [
        "#### Esercizio 1.4.3\n",
        "Given 2 sets of integers, M and N, print their symmetric difference in ascending order. The term symmetric difference indicates those values that exist in either M or N but do not exist in both."
      ],
      "metadata": {
        "id": "eJ2kexYk5zdz"
      }
    },
    {
      "cell_type": "code",
      "execution_count": null,
      "metadata": {
        "id": "XACbOStw5zdz"
      },
      "outputs": [],
      "source": [
        "m=int(input())\n",
        "a=set(map(int, input().split()))\n",
        "n=int(input())\n",
        "b=set(map(int, input().split()))\n",
        "lis=list(a.difference(b) | b.difference(a))\n",
        "lis.sort()\n",
        "for i in range(len(lis)):\n",
        "    print(lis[i])\n"
      ]
    },
    {
      "cell_type": "markdown",
      "source": [
        "#### Esercizio 1.4.4\n",
        "If we want to add a single element to an existing set, we can use the .add() operation.\n",
        "It adds the element to the set and returns 'None'."
      ],
      "metadata": {
        "id": "-myquALN5zg8"
      }
    },
    {
      "cell_type": "code",
      "execution_count": null,
      "metadata": {
        "id": "rlvVc6Vs5zg8"
      },
      "outputs": [],
      "source": [
        "n=int(input())\n",
        "country=set()\n",
        "if(n>0 and n<1000):\n",
        "    for _ in range(n):\n",
        "        country.add(input())\n",
        "    res=len(country)\n",
        "    print(res)\n"
      ]
    },
    {
      "cell_type": "markdown",
      "source": [
        "#### Esercizio 1.4.5\n",
        "You have a non-empty set s, and you have to execute N commands given in N lines.\n",
        "\n",
        "The commands will be pop, remove and discard.\n",
        "\n"
      ],
      "metadata": {
        "id": "CrR53fhI5zkO"
      }
    },
    {
      "cell_type": "code",
      "execution_count": null,
      "metadata": {
        "id": "s8uFSdg65zkP"
      },
      "outputs": [],
      "source": [
        "NULL"
      ]
    },
    {
      "cell_type": "markdown",
      "source": [
        "#### Esercizio 1.4.6\n",
        "The students of District College have subscriptions to English and French newspapers. Some students have subscribed only to English, some have subscribed to only French and some have subscribed to both newspapers.\n",
        "\n",
        "You are given two sets of student roll numbers. One set has subscribed to the English newspaper, and the other set is subscribed to the French newspaper. The same student could be in both sets. Your task is to find the total number of students who have subscribed to at least one newspaper."
      ],
      "metadata": {
        "id": "FFURFUWJ5znL"
      }
    },
    {
      "cell_type": "code",
      "execution_count": null,
      "metadata": {
        "id": "nbAzUR3L5znL"
      },
      "outputs": [],
      "source": [
        "n=int(input())\n",
        "s1=set(map(int, input().split()))\n",
        "b=int(input())\n",
        "s2=set(map(int, input().split()))\n",
        "stot=set()\n",
        "stot=s1.union(s2)\n",
        "if(len(stot)>0 and len(stot)<1000):\n",
        "    res=len(stot)\n",
        "    print(res)"
      ]
    },
    {
      "cell_type": "markdown",
      "source": [
        "#### Esercizio 1.4.7\n",
        "The students of District College have subscriptions to English and French newspapers. Some students have subscribed only to English, some have subscribed only to French, and some have subscribed to both newspapers.\n",
        "\n",
        "You are given two sets of student roll numbers. One set has subscribed to the English newspaper, one set has subscribed to the French newspaper. Your task is to find the total number of students who have subscribed to both newspapers."
      ],
      "metadata": {
        "id": "uK9MHZQj5zqN"
      }
    },
    {
      "cell_type": "code",
      "execution_count": null,
      "metadata": {
        "id": "-iUAD4Od5zqO"
      },
      "outputs": [],
      "source": [
        "n=int(input())\n",
        "s1=set(map(int, input().split()))\n",
        "b=int(input())\n",
        "s2=set(map(int, input().split()))\n",
        "stot=set()\n",
        "stot=s1.intersection(s2)\n",
        "if(len(stot)>0 and len(stot)<1000):\n",
        "    res=len(stot)\n",
        "    print(res)"
      ]
    },
    {
      "cell_type": "markdown",
      "source": [
        "#### Esercizio 1.4.8\n",
        "Students of District College have a subscription to English and French newspapers. Some students have subscribed to only the English newspaper, some have subscribed to only the French newspaper, and some have subscribed to both newspapers.\n",
        "\n",
        "You are given two sets of student roll numbers. One set has subscribed to the English newspaper, and one set has subscribed to the French newspaper. Your task is to find the total number of students who have subscribed to only English newspapers."
      ],
      "metadata": {
        "id": "dcYmLHTy5ztZ"
      }
    },
    {
      "cell_type": "code",
      "execution_count": null,
      "metadata": {
        "id": "IOi9KW355ztZ"
      },
      "outputs": [],
      "source": [
        "n=int(input())\n",
        "s1=set(map(int, input().split()))\n",
        "b=int(input())\n",
        "s2=set(map(int, input().split()))\n",
        "stot=set()\n",
        "stot=s1.union(s2)\n",
        "diff=s1.difference(s2)\n",
        "if(len(stot)>0 and len(stot)<1000):\n",
        "    res=len(diff)\n",
        "    print(res)"
      ]
    },
    {
      "cell_type": "markdown",
      "source": [
        "#### Esercizio 1.4.9\n",
        "Students of District College have subscriptions to English and French newspapers. Some students have subscribed to English only, some have subscribed to French only, and some have subscribed to both newspapers.\n",
        "\n",
        "You are given two sets of student roll numbers. One set has subscribed to the English newspaper, and one set has subscribed to the French newspaper. Your task is to find the total number of students who have subscribed to either the English or the French newspaper but not both."
      ],
      "metadata": {
        "id": "8a1OURje5zwc"
      }
    },
    {
      "cell_type": "code",
      "execution_count": null,
      "metadata": {
        "id": "GTeIl24Y5zwc"
      },
      "outputs": [],
      "source": [
        "n=int(input())\n",
        "s1=set(map(int, input().split()))\n",
        "b=int(input())\n",
        "s2=set(map(int, input().split()))\n",
        "stot=set()\n",
        "stot=s1.union(s2)\n",
        "simdif=s1.symmetric_difference(s2)\n",
        "if(len(stot)>0 and len(stot)<1000):\n",
        "    res=len(simdif)\n",
        "    print(res)"
      ]
    },
    {
      "cell_type": "markdown",
      "source": [
        "#### Esercizio 1.4.10\n",
        "You are given a set A and N number of other sets. These N number of sets have to perform some specific mutation operations on set A.\n",
        "\n",
        "Your task is to execute those operations and print the sum of elements from set A.\n",
        "\n"
      ],
      "metadata": {
        "id": "nQLlN6-O5zzg"
      }
    },
    {
      "cell_type": "code",
      "execution_count": null,
      "metadata": {
        "id": "84AsqLKk5zzg"
      },
      "outputs": [],
      "source": [
        "n=int(input())\n",
        "A=set(map(int, input().split()))\n",
        "N=int(input())\n",
        "for _ in range(N):\n",
        "    comand = input().split()\n",
        "    new= set(map(int, input().split()))\n",
        "    eval('A.{}({})'.format(comand[0], new))\n",
        "\n",
        "print(sum(A))\n"
      ]
    },
    {
      "cell_type": "markdown",
      "source": [
        "#### Esercizio 1.4.11\n",
        "The Captain's Room challenge"
      ],
      "metadata": {
        "id": "fw-j6tME5z2T"
      }
    },
    {
      "cell_type": "code",
      "execution_count": null,
      "metadata": {
        "id": "WnF4Jjan5z2T"
      },
      "outputs": [],
      "source": [
        "K=int(input())\n",
        "A=list(map(int, input().split()))\n",
        "sett=set(A)\n",
        "res =((sum(sett)*K)-sum(A))//(K-1)\n",
        "print(res)\n"
      ]
    },
    {
      "cell_type": "markdown",
      "source": [
        "\n",
        "#### Esercizio 1.4.12\n",
        "You are given two sets, A and B.\n",
        "Your job is to find whether set A is a subset of set B.\n",
        "\n",
        "If set A is subset of set B, print True.\n",
        "If set A is not a subset of set B, print False."
      ],
      "metadata": {
        "id": "sdjugbxDFLZX"
      }
    },
    {
      "cell_type": "code",
      "execution_count": null,
      "metadata": {
        "id": "5hJi_WjkFLZY"
      },
      "outputs": [],
      "source": [
        "T=int(input())\n",
        "if(T>0 and T<21):\n",
        "    for _ in range(T):\n",
        "        n=int(input())\n",
        "        a=set(input().split())\n",
        "        m=int(input())\n",
        "        b=set(input().split())\n",
        "        if(len(a)<1001 or len(b)<1001):\n",
        "            diff=a.difference(b)\n",
        "            if(len(diff)):\n",
        "                print(\"False\")\n",
        "            else:\n",
        "                print(\"True\")"
      ]
    },
    {
      "cell_type": "markdown",
      "source": [
        "#### Esercizio 1.4.13\n",
        "Print True if set A is a strict superset of all other N sets. Otherwise, print False."
      ],
      "metadata": {
        "id": "PhQIulN7FLmk"
      }
    },
    {
      "cell_type": "code",
      "execution_count": null,
      "metadata": {
        "id": "1Ot-yTAnFLmk"
      },
      "outputs": [],
      "source": [
        "A=set(map(int, input().split()))\n",
        "n=int(input())\n",
        "count=0\n",
        "for _ in range(n):\n",
        "    b=set(map(int, input().split()))\n",
        "    if(len(b.difference(A))==0):\n",
        "        count+=1\n",
        "if(count==n):\n",
        "    print(\"True\")\n",
        "else:\n",
        "    print(\"False\")\n"
      ]
    },
    {
      "cell_type": "markdown",
      "source": [
        "#### Esercizio 1.5.1\n",
        "Raghu is a shoe shop owner. His shop has X number of shoes.\n",
        "He has a list containing the size of each shoe he has in his shop.\n",
        "There are N number of customers who are willing to pay xi amount of money only if they get the shoe of their desired size.\n",
        "\n",
        "Your task is to compute how much money Raghu earned."
      ],
      "metadata": {
        "id": "FPoZ86wNFLuv"
      }
    },
    {
      "cell_type": "code",
      "execution_count": null,
      "metadata": {
        "id": "gOcLsNe0FLuv"
      },
      "outputs": [],
      "source": [
        "import collections\n",
        "X=int(input())\n",
        "lista=collections.Counter(map(int, input().split()))\n",
        "N=int(input())\n",
        "res=0\n",
        "for _ in range(N):\n",
        "    taglia, acq=map(int, input().split())\n",
        "    if lista[taglia]:\n",
        "        res+=acq\n",
        "        lista[taglia]-=1\n",
        "print(res)\n"
      ]
    },
    {
      "cell_type": "markdown",
      "source": [
        "#### Esercizio 1.5.2\n",
        "In this challenge, you will be given 2 integers, n and m. There are n words, which might repeat, in word group A. There are m words belonging to word group B. For each m words, check whether the word has appeared in group A or not. Print the indices of each occurrence of m in group A. If it does not appear, print -1."
      ],
      "metadata": {
        "id": "SITNKsyOFLyT"
      }
    },
    {
      "cell_type": "code",
      "execution_count": null,
      "metadata": {
        "id": "ItH9TE5cFLyT"
      },
      "outputs": [],
      "source": [
        "n, m=map(int, input().split())\n",
        "import collections\n",
        "d=collections.defaultdict(list)\n",
        "for i in range(1,n+1):\n",
        "    d[input()].append(str(i))\n",
        "for j in range(m):\n",
        "    print(' '.join(d[input()]) or -1)"
      ]
    },
    {
      "cell_type": "markdown",
      "source": [
        "#### Esercizio 1.5.3\n",
        "Dr. John Wesley has a spreadsheet containing a list of student's ID,mark, class and name.\n",
        "\n",
        "Your task is to help Dr. Wesley calculate the average marks of the students."
      ],
      "metadata": {
        "id": "abX44cFVFL2j"
      }
    },
    {
      "cell_type": "code",
      "execution_count": null,
      "metadata": {
        "id": "9wEGEAMSFL2j"
      },
      "outputs": [],
      "source": [
        "import collections\n",
        "N=int(input())\n",
        "categories=input().split()\n",
        "somma=0\n",
        "for _ in range(N):\n",
        "    Student=collections.namedtuple('student', categories)\n",
        "    ID, MARKS, CLASS, NAME= input().split()\n",
        "    student = Student(ID, MARKS, CLASS, NAME)\n",
        "    somma+=int(student.MARKS)\n",
        "average=somma/N\n",
        "print('{:.2f}'.format(average))"
      ]
    },
    {
      "cell_type": "markdown",
      "source": [
        "#### Esercizio 1.5.4\n",
        "You are the manager of a supermarket.\n",
        "You have a list of N items together with their prices that consumers bought on a particular day.\n",
        "Your task is to print each item_name and net_price in order of its first occurrence."
      ],
      "metadata": {
        "id": "B1e4fCh1FL5Y"
      }
    },
    {
      "cell_type": "code",
      "execution_count": null,
      "metadata": {
        "id": "87jNsI1WFL5Z"
      },
      "outputs": [],
      "source": [
        "N=int(input())\n",
        "import collections\n",
        "ordine = collections.OrderedDict()\n",
        "for _ in range(N):\n",
        "    item, space, prezzo = input().rpartition(' ')\n",
        "    ordine[item] = ordine.get(item, 0) + int(prezzo)\n",
        "for item, prezzo in ordine.items():\n",
        "    print(item, prezzo)"
      ]
    },
    {
      "cell_type": "markdown",
      "source": [
        "#### Esercizio 1.5.5\n",
        "You are given n words. Some words may repeat. For each word, output its number of occurrences. The output order should correspond with the input order of appearance of the word. See the sample input/output for clarification."
      ],
      "metadata": {
        "id": "k6WjFdr9FL7u"
      }
    },
    {
      "cell_type": "code",
      "execution_count": null,
      "metadata": {
        "id": "wwr6gzAXFL7u"
      },
      "outputs": [],
      "source": [
        "n=int(input())\n",
        "import collections\n",
        "lista=[]\n",
        "for i in range(n):\n",
        "    lista.append(input().strip())\n",
        "res=collections.Counter(lista)\n",
        "print(len(res))\n",
        "print(*res.values())\n"
      ]
    },
    {
      "cell_type": "markdown",
      "source": [
        "#### Esercizio 1.5.6\n",
        "Perform append, pop, popleft and appendleft methods on an empty deque d.\n",
        "\n"
      ],
      "metadata": {
        "id": "xiKuW17FFL-J"
      }
    },
    {
      "cell_type": "code",
      "execution_count": null,
      "metadata": {
        "id": "Kt_NvxZCFL-J"
      },
      "outputs": [],
      "source": [
        "NULL"
      ]
    },
    {
      "cell_type": "markdown",
      "source": [
        "#### Esercizio 1.5.7\n",
        "A newly opened multinational brand has decided to base their company logo on the three most common characters in the company name. They are now trying out various combinations of company names and logos based on this condition. Given a string , which is the company name in lowercase letters, your task is to find the top three most common characters in the string.\n",
        "\n",
        "Print the three most common characters along with their occurrence count.\n",
        "Sort in descending order of occurrence count.\n",
        "If the occurrence count is the same, sort the characters in alphabetical order."
      ],
      "metadata": {
        "id": "bA2R11PUFMAi"
      }
    },
    {
      "cell_type": "code",
      "execution_count": null,
      "metadata": {
        "id": "8GYxMPDoFMAi"
      },
      "outputs": [],
      "source": [
        "    s = input()\n",
        "    S = sorted(s)\n",
        "    frequenza = collections.Counter(list(S))\n",
        "    for k, v in frequenza.most_common(3):\n",
        "        print(k, v)"
      ]
    },
    {
      "cell_type": "markdown",
      "source": [
        "#### Esercizio 1.5.8\n",
        "When stacking the cubes, you can only pick up either the leftmost or the rightmost cube each time. Print Yes if it is possible to stack the cubes. Otherwise, print No."
      ],
      "metadata": {
        "id": "w0Q-i9-eFMDI"
      }
    },
    {
      "cell_type": "code",
      "execution_count": null,
      "metadata": {
        "id": "OC8Ycw0JFMDI"
      },
      "outputs": [],
      "source": [
        "NULL"
      ]
    },
    {
      "cell_type": "markdown",
      "source": [
        "#### Esercizio 1.6.1\n",
        "You are given a date. Your task is to find what the day is on that date."
      ],
      "metadata": {
        "id": "f2AAmUDuFMFq"
      }
    },
    {
      "cell_type": "code",
      "execution_count": null,
      "metadata": {
        "id": "lhr6AVrVFMFr"
      },
      "outputs": [],
      "source": [
        "import calendar\n",
        "day=list(map(int, input().split()))\n",
        "if (day[2]>2000 and day[2]<3000):\n",
        "    wd=calendar.day_name[calendar.weekday(day[2], day[0], day[1])]\n",
        "    print(wd.upper())\n"
      ]
    },
    {
      "cell_type": "markdown",
      "source": [
        "#### Esercizio 1.6.2\n",
        "When users post an update on social media,such as a URL, image, status update etc., other users in their network are able to view this new post on their news feed. Users can also see exactly when the post was published, i.e, how many hours, minutes or seconds ago.\n",
        "\n",
        "Since sometimes posts are published and viewed in different time zones, this can be confusing. You are given two timestamps of one such post that a user can see on his newsfeed in the following format:\n",
        "\n",
        "Day dd Mon yyyy hh:mm:ss +xxxx\n",
        "\n",
        "Here +xxxx represents the time zone. Your task is to print the absolute difference (in seconds) between them."
      ],
      "metadata": {
        "id": "Sl0Q1xMfFMIn"
      }
    },
    {
      "cell_type": "code",
      "execution_count": null,
      "metadata": {
        "id": "W3rpt1DYFMIn"
      },
      "outputs": [],
      "source": [
        "formatt = '%a %d %b %Y %H:%M:%S %z'\n",
        "\n",
        "# Complete the time_delta function below.\n",
        "def time_delta(t1, t2):\n",
        "    t1 = datetime.datetime.strptime(t1, formatt)\n",
        "    t2 = datetime.datetime.strptime(t2, formatt)\n",
        "    return str(int(abs((t1-t2).total_seconds())))"
      ]
    },
    {
      "cell_type": "markdown",
      "source": [
        "#### Esercizio 1.7\n",
        "You are given two values a and b.\n",
        "Perform integer division and print a/b."
      ],
      "metadata": {
        "id": "q8-WT4BsFMMq"
      }
    },
    {
      "cell_type": "code",
      "execution_count": null,
      "metadata": {
        "id": "kcxhIzblFMMr"
      },
      "outputs": [],
      "source": [
        "pT=int(input())\n",
        "for _ in range(T):\n",
        "    try:\n",
        "        a, b=input().split()\n",
        "        print(int(a)//int(b))\n",
        "    except ZeroDivisionError as e:\n",
        "        print(\"Error Code:\", e)\n",
        "    except ValueError as e:\n",
        "        print(\"Error Code:\", e)"
      ]
    },
    {
      "cell_type": "markdown",
      "source": [
        "#### Esercizio 1.8.1\n",
        "he National University conducts an examination of N students in X subjects.\n",
        "Your task is to compute the average scores of each student."
      ],
      "metadata": {
        "id": "e49QNvDjFMPK"
      }
    },
    {
      "cell_type": "code",
      "execution_count": null,
      "metadata": {
        "id": "iaAAHw-sFMPK"
      },
      "outputs": [],
      "source": [
        "N, X=map(int, input().split())\n",
        "a=list()\n",
        "for _ in range(X):\n",
        "    marks=map(float, input().split())\n",
        "    a.append(marks)\n",
        "for i in zip(*a):\n",
        "    print(sum(i)/len(i))"
      ]
    },
    {
      "cell_type": "markdown",
      "source": [
        "#### Esercizio 1.8.2\n",
        "You are given a spreadsheet that contains a list of N athletes and their details (such as age, height, weight and so on). You are required to sort the data based on the Kth attribute and print the final resulting table. Follow the example given below for better understanding.\n",
        "\n"
      ],
      "metadata": {
        "id": "udXv7DWcFMRM"
      }
    },
    {
      "cell_type": "code",
      "execution_count": null,
      "metadata": {
        "id": "J3puqf2VFMRN"
      },
      "outputs": [],
      "source": [
        "    array=sorted(arr, key=lambda row: row[k])\n",
        "    for i in range(len(array)):\n",
        "        for j in range(len(array[i])):\n",
        "            print(array[i][j], end=' ')\n",
        "        print()"
      ]
    },
    {
      "cell_type": "markdown",
      "source": [
        "#### Esercizio 1.8.3\n",
        "Your task is to sort the string S in the following manner:\n",
        "\n",
        "All sorted lowercase letters are ahead of uppercase letters.\n",
        "All sorted uppercase letters are ahead of digits.\n",
        "All sorted odd digits are ahead of sorted even digits."
      ],
      "metadata": {
        "id": "zRkU2owhFMUA"
      }
    },
    {
      "cell_type": "code",
      "execution_count": null,
      "metadata": {
        "id": "Yok08E-QFMUA"
      },
      "outputs": [],
      "source": [
        "def ginortS(string):\n",
        "    lower = []\n",
        "    upper = []\n",
        "    odd = []\n",
        "    even = []\n",
        "    for c in string:\n",
        "        if c.islower():\n",
        "            lower.append(c)\n",
        "        elif c.isupper():\n",
        "            upper.append(c)\n",
        "        elif c.isdigit():\n",
        "            if (int(c) %2)==0:\n",
        "                even.append(c)\n",
        "            else:\n",
        "                odd.append(c)\n",
        "    return (''.join(sorted(lower)+sorted(upper)+sorted(odd)+sorted(even)))\n",
        "\n",
        "if __name__=='__main__':\n",
        "    string=input()\n",
        "    print(ginortS(string))"
      ]
    },
    {
      "cell_type": "markdown",
      "source": [
        "#### Esercizio 1.9\n",
        "Let's learn some new Python concepts! You have to generate a list of the first n fibonacci numbers, 0 being the first number. Then, apply the map function and a lambda expression to cube each fibonacci number and print the list.\n",
        "\n"
      ],
      "metadata": {
        "id": "nyXH9xV3FMV8"
      }
    },
    {
      "cell_type": "code",
      "execution_count": null,
      "metadata": {
        "id": "XJ3Lt8JqFMV8"
      },
      "outputs": [],
      "source": [
        "cube = lambda x: x**3\n",
        "\n",
        "def fibonacci(n):\n",
        "    l=[0,1]\n",
        "    for i in range(2, n):\n",
        "        l.append(l[i-2]+l[i-1])\n",
        "    return (l[0:n])"
      ]
    },
    {
      "cell_type": "markdown",
      "source": [
        "#### Esercizio 1.10.1\n",
        "You are given a string N.\n",
        "Your task is to verify that N is a floating point number."
      ],
      "metadata": {
        "id": "DxWGhBmWKoyL"
      }
    },
    {
      "cell_type": "code",
      "execution_count": null,
      "metadata": {
        "id": "4vozjYbKKoyM"
      },
      "outputs": [],
      "source": [
        "T=int(input())\n",
        "from re import match, compile\n",
        "formato = compile('^[-+]?[0-9]*\\.[0-9]+$')\n",
        "for _ in range(T):\n",
        "    print(bool(formato.match(input())))"
      ]
    },
    {
      "cell_type": "markdown",
      "source": [
        "#### Esercizio 1.10.2\n",
        "You are given a string  consisting only of digits 0-9, commas ,, and dots .\n",
        "\n",
        "Your task is to complete the regex_pattern defined below, which will be used to re.split() all of the , and . symbols in s.\n",
        "\n",
        "It’s guaranteed that every comma and every dot in  is preceeded and followed by a digit."
      ],
      "metadata": {
        "id": "2-9-fN2wKo0k"
      }
    },
    {
      "cell_type": "code",
      "execution_count": null,
      "metadata": {
        "id": "qQiORacZKo0k"
      },
      "outputs": [],
      "source": [
        "regex_pattern = r'[.,]+'\n"
      ]
    },
    {
      "cell_type": "markdown",
      "source": [
        "#### Esercizio 1.10.3\n",
        "You are given a string S.\n",
        "Your task is to find the first occurrence of an alphanumeric character in S (read from left to right) that has consecutive repetitions."
      ],
      "metadata": {
        "id": "2Lcgn40_Ko3d"
      }
    },
    {
      "cell_type": "code",
      "execution_count": null,
      "metadata": {
        "id": "poOChFNcKo3d"
      },
      "outputs": [],
      "source": [
        "import re\n",
        "\n",
        "m = re.search(r'([a-zA-Z0-9])\\1', input().strip())\n",
        "print(m.group(1) if m else -1)"
      ]
    },
    {
      "cell_type": "markdown",
      "source": [
        "#### Esercizio 1.10.4\n",
        "You are given a string S. It consists of alphanumeric characters, spaces and symbols(+,-).\n",
        "Your task is to find all the substrings of S that contains 2 or more vowels.\n",
        "Also, these substrings must lie in between 2 consonants and should contain vowels only."
      ],
      "metadata": {
        "id": "XuQC4DD9Ko7U"
      }
    },
    {
      "cell_type": "code",
      "execution_count": null,
      "metadata": {
        "id": "cdyLubQuKo7U"
      },
      "outputs": [],
      "source": [
        "NULL"
      ]
    },
    {
      "cell_type": "markdown",
      "source": [
        "\n",
        "#### Esercizio 1.10.5\n",
        "You are given a string S.\n",
        "Your task is to find the indices of the start and end of string k in S."
      ],
      "metadata": {
        "id": "T9d3VoBdKo96"
      }
    },
    {
      "cell_type": "code",
      "execution_count": null,
      "metadata": {
        "id": "dwq4GnyqKo97"
      },
      "outputs": [],
      "source": [
        "import re\n",
        "string = input()\n",
        "substring = input()\n",
        "pattern = re.compile(substring)\n",
        "match = pattern.search(string)\n",
        "if not match: print('(-1, -1)')\n",
        "while match:\n",
        "    print('({0}, {1})'.format(match.start(), match.end() - 1))\n",
        "    match = pattern.search(string, match.start() + 1)"
      ]
    },
    {
      "cell_type": "markdown",
      "source": [
        "#### Esercizio 1.10.6\n",
        "Regex Substitution challenge"
      ],
      "metadata": {
        "id": "tmftdCpnKpAg"
      }
    },
    {
      "cell_type": "code",
      "execution_count": null,
      "metadata": {
        "id": "N4nhxhJMKpAg"
      },
      "outputs": [],
      "source": [
        "import re\n",
        "N=int(input())\n",
        "for _ in range(N):\n",
        "    print(re.sub(r'(?<= )(&&|\\|\\|)(?= )', lambda x: 'and' if x.group() == '&&' else 'or', input()))"
      ]
    },
    {
      "cell_type": "markdown",
      "source": [
        "#### Esercizio 1.10.7\n",
        "Validating Roman Numerals challenge"
      ],
      "metadata": {
        "id": "tODAoyKFKpDT"
      }
    },
    {
      "cell_type": "code",
      "execution_count": null,
      "metadata": {
        "id": "N8xjM_55KpDT"
      },
      "outputs": [],
      "source": [
        "regex_pattern = r\"M{0,3}(C[MD]|D?C{0,3})(X[CL]|L?X{0,3})(I[VX]|V?I{0,3})$\"\t# Do not delete 'r'.\n",
        "\n"
      ]
    },
    {
      "cell_type": "markdown",
      "source": [
        "#### Esercizio 1.10.8\n",
        "Validating phone numbers"
      ],
      "metadata": {
        "id": "nYacKBfrKpG3"
      }
    },
    {
      "cell_type": "code",
      "execution_count": null,
      "metadata": {
        "id": "gEKGFXU7KpG3"
      },
      "outputs": [],
      "source": [
        "import re\n",
        "N=int(input())\n",
        "for _ in range(N):\n",
        "    if re.match(r'[789]\\d{9}$', input()):\n",
        "        print('YES')\n",
        "    else:\n",
        "        print('NO')\n"
      ]
    },
    {
      "cell_type": "markdown",
      "source": [
        "#### Esercizio 1.10.9\n",
        "Validating and Parsing Email Addresses"
      ],
      "metadata": {
        "id": "sTu5_RWKKpJf"
      }
    },
    {
      "cell_type": "code",
      "execution_count": null,
      "metadata": {
        "id": "bQKw8D3PKpJf"
      },
      "outputs": [],
      "source": [
        "n=int(input())\n",
        "import re\n",
        "formato=r'^<[A-Za-z](\\w|-|\\.|_)+@[A-Za-z]+\\.[A-Za-z]{1,3}>$'\n",
        "for _ in range(n):\n",
        "    nome, email=input().split(' ')\n",
        "    if re.match(formato, email):\n",
        "        print(nome, email)\n"
      ]
    },
    {
      "cell_type": "markdown",
      "source": [
        "#### Esercizio 1.10.10\n",
        "Hex Color Code"
      ],
      "metadata": {
        "id": "cGiVseykKpMI"
      }
    },
    {
      "cell_type": "code",
      "execution_count": null,
      "metadata": {
        "id": "GhO2SX3rKpMI"
      },
      "outputs": [],
      "source": [
        "N=int(input())\n",
        "import re\n",
        "for _ in range(N):\n",
        "    matches = re.findall(r':?.(#[0-9a-fA-F]{6}|#[0-9a-fA-F]{3})', input())\n",
        "    if matches:\n",
        "        print(*matches, sep='\\n')"
      ]
    },
    {
      "cell_type": "markdown",
      "source": [
        "#### Esercizio 1.10.11\n",
        "HTML Parser - Part 1"
      ],
      "metadata": {
        "id": "O9lbJ8IMKpO2"
      }
    },
    {
      "cell_type": "code",
      "execution_count": null,
      "metadata": {
        "id": "BKcEO6FpKpO2"
      },
      "outputs": [],
      "source": [
        "N=int(input())\n",
        "from html.parser import HTMLParser\n",
        "class MyHTMLParser(HTMLParser):\n",
        "    def handle_starttag(self, tag, attrs):\n",
        "        print('Start :', tag)\n",
        "        for element in attrs:\n",
        "            print('->', element[0], '>', element[1])\n",
        "\n",
        "    def handle_endtag(self, tag):\n",
        "        print('End   :', tag)\n",
        "\n",
        "    def handle_startendtag(self, tag, attrs):\n",
        "        print('Empty :', tag)\n",
        "        for element in attrs:\n",
        "            print('->', element[0], '>', element[1])\n",
        "html = MyHTMLParser()\n",
        "for _ in range(N):\n",
        "    html.feed(input())"
      ]
    },
    {
      "cell_type": "markdown",
      "source": [
        "#### Esercizio 1.10.12\n",
        "HTML Parser - Part 2"
      ],
      "metadata": {
        "id": "k8osUHiuKpR4"
      }
    },
    {
      "cell_type": "code",
      "execution_count": null,
      "metadata": {
        "id": "7FktYOE-KpR4"
      },
      "outputs": [],
      "source": [
        "from html.parser import HTMLParser\n",
        "\n",
        "class MyHTMLParser(HTMLParser):\n",
        "    def handle_comment(self, data):\n",
        "        if ('\\n' in data):\n",
        "            print('>>> Multi-line Comment')\n",
        "        else:\n",
        "            print('>>> Single-line Comment')\n",
        "        print(data)\n",
        "\n",
        "    def handle_data(self, data):\n",
        "        if data == '\\n': return\n",
        "        print('>>> Data')\n",
        "        print(data)\n",
        "\n",
        "\n",
        "\n",
        "\n",
        "\n",
        "\n",
        "\n",
        "html = \"\"\n",
        "for i in range(int(input())):\n",
        "    html += input().rstrip()\n",
        "    html += '\\n'\n",
        "\n",
        "parser = MyHTMLParser()\n",
        "parser.feed(html)\n",
        "parser.close()\n"
      ]
    },
    {
      "cell_type": "markdown",
      "source": [
        "#### Esercizio 1.10.13\n",
        "Validating Credit Card Numbers"
      ],
      "metadata": {
        "id": "3orxgadjKpWc"
      }
    },
    {
      "cell_type": "code",
      "execution_count": null,
      "metadata": {
        "id": "kdGC71K_KpWd"
      },
      "outputs": [],
      "source": [
        "N=int(input())\n",
        "import re\n",
        "pattern = re.compile(r'^(?!.*(\\d)(-?\\1){3})[456]\\d{3}(?:-?\\d{4}){3}$')\n",
        "for _ in range(N):\n",
        "    if (pattern.search(input().strip())):\n",
        "        print('Valid')\n",
        "    else:\n",
        "        print('Invalid')"
      ]
    },
    {
      "cell_type": "markdown",
      "source": [
        "#### Esercizio 1.10.14\n",
        "Validating Postal Codes"
      ],
      "metadata": {
        "id": "egINt_yLKpaf"
      }
    },
    {
      "cell_type": "code",
      "execution_count": null,
      "metadata": {
        "id": "jdC8Msh_Kpag"
      },
      "outputs": [],
      "source": [
        "regex_integer_in_range = r\"^[1-9][\\d]{5}$\"\t# Do not delete 'r'.\n",
        "regex_alternating_repetitive_digit_pair = r\"(\\d)(?=\\d\\1)\"\t# Do not delete 'r'.\n",
        "\n"
      ]
    },
    {
      "cell_type": "markdown",
      "source": [
        "#### Esercizio 1.10.15\n",
        "Detect HTML Tags, Attributes and Attribute Values"
      ],
      "metadata": {
        "id": "ls6CkSt2Kpc8"
      }
    },
    {
      "cell_type": "code",
      "execution_count": null,
      "metadata": {
        "id": "8sTvSYx9Kpc8"
      },
      "outputs": [],
      "source": [
        "NULL"
      ]
    },
    {
      "cell_type": "markdown",
      "source": [
        "#### Esercizio 1.10.16\n",
        "Validating UID"
      ],
      "metadata": {
        "id": "RQAzRSGNKpfw"
      }
    },
    {
      "cell_type": "code",
      "execution_count": null,
      "metadata": {
        "id": "qvAK9l6OKpfw"
      },
      "outputs": [],
      "source": [
        "NULL"
      ]
    },
    {
      "cell_type": "markdown",
      "source": [
        "#### Esercizio 1.10.17\n",
        "Matrix Script"
      ],
      "metadata": {
        "id": "yf1mU31rKpiE"
      }
    },
    {
      "cell_type": "code",
      "execution_count": null,
      "metadata": {
        "id": "Qg4lOTBnKpiE"
      },
      "outputs": [],
      "source": [
        "NULL"
      ]
    },
    {
      "cell_type": "markdown",
      "source": [
        "#### Esercizio 1.1.1\n",
        "You are given a valid XML document, and you have to print its score. The score is calculated by the sum of the score of each element. For any element, the score is equal to the number of attributes it has."
      ],
      "metadata": {
        "id": "tUUd7YRhKoik"
      }
    },
    {
      "cell_type": "code",
      "execution_count": null,
      "metadata": {
        "id": "qN9TO2OBKoil"
      },
      "outputs": [],
      "source": [
        "def get_attr_number(node):\n",
        "    return len(node.attrib) + sum(get_attr_number(child) for child in node)\n"
      ]
    },
    {
      "cell_type": "markdown",
      "source": [
        "#### Esercizio 1.11.2\n",
        "You are given a valid XML document, and you have to print the maximum level of nesting in it. Take the depth of the root as 0."
      ],
      "metadata": {
        "id": "IN_VmK-dKomn"
      }
    },
    {
      "cell_type": "code",
      "execution_count": null,
      "metadata": {
        "id": "NHwBdaTwKomn"
      },
      "outputs": [],
      "source": [
        "maxdepth = 0\n",
        "def depth(elem, level):\n",
        "    global maxdepth\n",
        "    if (level==maxdepth):\n",
        "        maxdepth+=1\n",
        "    for subnode in elem:\n",
        "        depth(subnode, level+1)"
      ]
    },
    {
      "cell_type": "markdown",
      "source": [
        "#### Esercizio 1.12.1\n",
        "The given mobile numbers may have +91, 91 or 0 written before the actual 10 digit number. Alternatively, there may not be any prefix at all."
      ],
      "metadata": {
        "id": "Tg8GsDWBKorv"
      }
    },
    {
      "cell_type": "code",
      "execution_count": null,
      "metadata": {
        "id": "8jZu3kK3Korv"
      },
      "outputs": [],
      "source": [
        "def wrapper(f):\n",
        "    def fun(l):\n",
        "        f(['+91 '+c[-10:-5]+' '+c[-5:] for c in l])\n",
        "    return fun\n"
      ]
    },
    {
      "cell_type": "markdown",
      "source": [
        "#### Esercizio 1.12.2\n",
        "Let's use decorators to build a name directory! You are given some information about N people. Each person has a first name, last name, age and sex. Print their names in a specific format sorted by their age in ascending order i.e. the youngest person's name should be printed first. For two people of the same age, print them in the order of their input.\n"
      ],
      "metadata": {
        "id": "xUZN-zbCKove"
      }
    },
    {
      "cell_type": "code",
      "execution_count": null,
      "metadata": {
        "id": "_d4gVneLKove"
      },
      "outputs": [],
      "source": [
        "def person_lister(f):\n",
        "    def inner(people):\n",
        "        return map(f, sorted(people, key=lambda age: int(age[2])))\n",
        "    return inner\n"
      ]
    },
    {
      "cell_type": "markdown",
      "source": [
        "#### Esercizio 1.13.1\n",
        "Arrays"
      ],
      "metadata": {
        "id": "PcATEe5GKpk4"
      }
    },
    {
      "cell_type": "code",
      "execution_count": null,
      "metadata": {
        "id": "sUM3h6L8Kpk5"
      },
      "outputs": [],
      "source": [
        "def arrays(arr):\n",
        "    return (numpy.array(arr[::-1], float))\n",
        "\n"
      ]
    },
    {
      "cell_type": "markdown",
      "source": [
        "#### Esercizio 1.13.2\n",
        "Shape and Reshape"
      ],
      "metadata": {
        "id": "PmkR9WaIKpnQ"
      }
    },
    {
      "cell_type": "code",
      "execution_count": null,
      "metadata": {
        "id": "MzFMD2FCKpnQ"
      },
      "outputs": [],
      "source": [
        "import numpy\n",
        "arr=list(map(int, input().split()))\n",
        "my_array = numpy.array(arr)\n",
        "print(numpy.reshape(my_array, (3, 3)))"
      ]
    },
    {
      "cell_type": "markdown",
      "source": [
        "#### Esercizio 1.13.3\n",
        "Transpose and Flatten"
      ],
      "metadata": {
        "id": "CRXwF4jEKpqF"
      }
    },
    {
      "cell_type": "code",
      "execution_count": null,
      "metadata": {
        "id": "621rlgh5KpqF"
      },
      "outputs": [],
      "source": [
        "import numpy\n",
        "\n",
        "\n",
        "\n",
        "n, m=map(int, input().split())\n",
        "column = numpy.array([input().strip().split() for _ in range(n)], int)\n",
        "print(column.transpose())\n",
        "print(column.flatten())\n"
      ]
    },
    {
      "cell_type": "markdown",
      "source": [
        "#### Esercizio 1.13.4\n",
        "Zeros and Ones"
      ],
      "metadata": {
        "id": "ywdBJTLaKptD"
      }
    },
    {
      "cell_type": "code",
      "execution_count": null,
      "metadata": {
        "id": "KDhYzsQnKptE"
      },
      "outputs": [],
      "source": [
        "import numpy\n",
        "\n",
        "\n",
        "\n",
        "a=tuple(map(int, input().split()))\n",
        "print(numpy.zeros(a, dtype=int))\n",
        "print(numpy.ones(a, dtype=int))\n"
      ]
    },
    {
      "cell_type": "markdown",
      "source": [
        "#### Esercizio 1.13.5\n",
        "Concatenate"
      ],
      "metadata": {
        "id": "wN6B9zrrKpv9"
      }
    },
    {
      "cell_type": "code",
      "execution_count": null,
      "metadata": {
        "id": "Kw854K6NKpv9"
      },
      "outputs": [],
      "source": [
        "import numpy\n",
        "\n",
        "\n",
        "\n",
        "n, m, p=map(int, input().split())\n",
        "nump = numpy.array([input().split() for _ in range(n)], int)\n",
        "arr = numpy.array([input().split() for _ in range(m)], int)\n",
        "print(numpy.concatenate((nump, arr), axis=0))"
      ]
    },
    {
      "cell_type": "markdown",
      "source": [
        "#### Esercizio 1.13.6\n",
        "Array Mathematics"
      ],
      "metadata": {
        "id": "1--Q-okdKpyz"
      }
    },
    {
      "cell_type": "code",
      "execution_count": null,
      "metadata": {
        "id": "Dz69M0yhKpyz"
      },
      "outputs": [],
      "source": [
        "import numpy\n",
        "\n",
        "\n",
        "n, m = map(int, input().split())\n",
        "a = (numpy.array([input().split() for _ in range(n)], int))\n",
        "b = (numpy.array([input().split() for _ in range(n)], int))\n",
        "print(a + b, a - b, a * b, a // b, a % b, a ** b, sep='\\n')\n"
      ]
    },
    {
      "cell_type": "markdown",
      "source": [
        "#### Esercizio 1.13.7\n",
        "Eye and Identity"
      ],
      "metadata": {
        "id": "vb6hxCNNKp1m"
      }
    },
    {
      "cell_type": "code",
      "execution_count": null,
      "metadata": {
        "id": "08oeN07wKp1m"
      },
      "outputs": [],
      "source": [
        "import numpy\n",
        "numpy.set_printoptions(legacy='1.13')\n",
        "\n",
        "\n",
        "n, m=map(int, input().split())\n",
        "if (n==m):\n",
        "    print(numpy.identity(n))\n",
        "else:\n",
        "    print(numpy.eye(n, m, k=0))\n"
      ]
    },
    {
      "cell_type": "markdown",
      "source": [
        "#### Esercizio 1.13.8\n",
        "Floor, Ceil and Rint"
      ],
      "metadata": {
        "id": "6L8BFPV-Kp4k"
      }
    },
    {
      "cell_type": "code",
      "execution_count": null,
      "metadata": {
        "id": "M_2DFx94Kp4l"
      },
      "outputs": [],
      "source": [
        "import numpy\n",
        "numpy.set_printoptions(legacy='1.13')\n",
        "\n",
        "\n",
        "a=numpy.array(input().split(), float)\n",
        "print(numpy.floor(a))\n",
        "print(numpy.ceil(a))\n",
        "print(numpy.rint(a))\n"
      ]
    },
    {
      "cell_type": "markdown",
      "source": [
        "#### Esercizio 1.13.9\n",
        "Sum and Prod"
      ],
      "metadata": {
        "id": "WXC-TMLzKp7c"
      }
    },
    {
      "cell_type": "code",
      "execution_count": null,
      "metadata": {
        "id": "zRFp2HfhKp7d"
      },
      "outputs": [],
      "source": [
        "import numpy\n",
        "\n",
        "\n",
        "\n",
        "n, m=map(int, input().split())\n",
        "a = numpy.array([input().split() for _ in range(n)], int)\n",
        "som=numpy.sum(a, axis=0)\n",
        "print(numpy.prod(som))"
      ]
    },
    {
      "cell_type": "markdown",
      "source": [
        "#### Esercizio 1.13.10\n",
        "Min and Max"
      ],
      "metadata": {
        "id": "xwB8S-pEKp-S"
      }
    },
    {
      "cell_type": "code",
      "execution_count": null,
      "metadata": {
        "id": "AmcD8kW2Kp-S"
      },
      "outputs": [],
      "source": [
        "import numpy\n",
        "\n",
        "n, m = map(int, input().split())\n",
        "a = numpy.array([input().split() for _ in range(n)], int)\n",
        "print(numpy.max(numpy.min(a, axis=1), axis=0))"
      ]
    },
    {
      "cell_type": "markdown",
      "source": [
        "#### Esercizio 1.13.11\n",
        "Mean, Var, and Std"
      ],
      "metadata": {
        "id": "m646lh8DKqBK"
      }
    },
    {
      "cell_type": "code",
      "execution_count": null,
      "metadata": {
        "id": "wkU2iU2wKqBK"
      },
      "outputs": [],
      "source": [
        "NULL"
      ]
    },
    {
      "cell_type": "markdown",
      "source": [
        "#### Esercizio 1.13.12\n",
        "Dot and Cross"
      ],
      "metadata": {
        "id": "4_a1B-4NKqEG"
      }
    },
    {
      "cell_type": "code",
      "execution_count": null,
      "metadata": {
        "id": "PYVvpgN3KqEG"
      },
      "outputs": [],
      "source": [
        "import numpy\n",
        "\n",
        "n = int(input())\n",
        "a = numpy.array([input().split() for _ in range(n)], int)\n",
        "b = numpy.array([input().split() for _ in range(n)], int)\n",
        "print(numpy.dot(a, b))"
      ]
    },
    {
      "cell_type": "markdown",
      "source": [
        "#### Esercizio 1.13.13\n",
        "Inner and Outer"
      ],
      "metadata": {
        "id": "5MJ2hEKGKqGs"
      }
    },
    {
      "cell_type": "code",
      "execution_count": null,
      "metadata": {
        "id": "AH07uuzWKqGs"
      },
      "outputs": [],
      "source": [
        "import numpy\n",
        "\n",
        "\n",
        "\n",
        "a = numpy.array(input().split(), int)\n",
        "b = numpy.array(input().split(), int)\n",
        "print(numpy.inner(a, b), numpy.outer(a, b), sep='\\n')"
      ]
    },
    {
      "cell_type": "markdown",
      "source": [
        "#### Esercizio 1.13.14\n",
        "Polynomials"
      ],
      "metadata": {
        "id": "h09SxePwKqJ6"
      }
    },
    {
      "cell_type": "code",
      "execution_count": null,
      "metadata": {
        "id": "nsgHPNeiKqJ6"
      },
      "outputs": [],
      "source": [
        "import numpy\n",
        "\n",
        "\n",
        "\n",
        "poly = [float(x) for x in input().split()]\n",
        "x = float(input())\n",
        "print(numpy.polyval(poly, x))"
      ]
    },
    {
      "cell_type": "markdown",
      "source": [
        "#### Esercizio 1.13.15\n",
        "Linear Algebra"
      ],
      "metadata": {
        "id": "1rqfOjQpKqMy"
      }
    },
    {
      "cell_type": "code",
      "execution_count": null,
      "metadata": {
        "id": "4p_G7FMyKqMy"
      },
      "outputs": [],
      "source": [
        "import numpy\n",
        "\n",
        "\n",
        "\n",
        "numpy.set_printoptions(legacy='1.13')\n",
        "\n",
        "n = int(input())\n",
        "array = numpy.array([input().split() for _ in range(n)], float)\n",
        "print(numpy.linalg.det(array))"
      ]
    },
    {
      "cell_type": "markdown",
      "source": [
        "## **Problema 2**\n"
      ],
      "metadata": {
        "id": "LSUJypTnR5c8"
      }
    },
    {
      "cell_type": "markdown",
      "source": [
        "#### Esercizio 2.1\n",
        "Birthday Cake Candles"
      ],
      "metadata": {
        "id": "HizeEWwwKqP2"
      }
    },
    {
      "cell_type": "code",
      "execution_count": null,
      "metadata": {
        "id": "ysJCf776KqP2"
      },
      "outputs": [],
      "source": [
        "def birthdayCakeCandles(candles):\n",
        "    count=0\n",
        "    massimo = max(candles)\n",
        "    for i in range(len(candles)):\n",
        "        if(candles[i]==massimo):\n",
        "            count+=1\n",
        "    return count"
      ]
    },
    {
      "cell_type": "markdown",
      "source": [
        "#### Esercizio 2.2\n",
        "Number Line Jumps"
      ],
      "metadata": {
        "id": "342Oy3ZGKqS7"
      }
    },
    {
      "cell_type": "code",
      "execution_count": null,
      "metadata": {
        "id": "ryCd39heKqS7"
      },
      "outputs": [],
      "source": [
        "def kangaroo(x1, v1, x2, v2):\n",
        "    for n in range(10000):\n",
        "        if ((x1+v1)==(x2+v2)):\n",
        "           return \"YES\"\n",
        "        x1=x1+v1\n",
        "        x2=x2+v2\n",
        "    return \"NO\""
      ]
    },
    {
      "cell_type": "markdown",
      "source": [
        "#### Esercizio 2.3\n",
        "Viral Advertising"
      ],
      "metadata": {
        "id": "nTIRh5_DKqVp"
      }
    },
    {
      "cell_type": "code",
      "execution_count": null,
      "metadata": {
        "id": "ETpiJuFVKqVp"
      },
      "outputs": [],
      "source": [
        "NULL"
      ]
    },
    {
      "cell_type": "markdown",
      "source": [
        "#### Esercizio 2.4\n",
        "Recursive Digit Sum"
      ],
      "metadata": {
        "id": "B14xPuFcKqYw"
      }
    },
    {
      "cell_type": "code",
      "execution_count": null,
      "metadata": {
        "id": "NVazRgSPKqYw"
      },
      "outputs": [],
      "source": [
        "def superDigit(n, k):\n",
        "    def getsdig(n):\n",
        "        tot=0\n",
        "        for i in n:\n",
        "            tot+=int(i)\n",
        "        tot=str(tot)\n",
        "        if (len(tot)==1):\n",
        "            return tot\n",
        "        else:\n",
        "            return getsdig(tot)\n",
        "    arr=str(getsdig(n)*k)\n",
        "    return getsdig(arr)"
      ]
    },
    {
      "cell_type": "markdown",
      "source": [
        "#### Esercizio 2.5\n",
        "Insertion Sort - Part 1"
      ],
      "metadata": {
        "id": "mpYzZ59kKqbc"
      }
    },
    {
      "cell_type": "code",
      "execution_count": null,
      "metadata": {
        "id": "fxqlV2dxKqbc"
      },
      "outputs": [],
      "source": [
        "def insertionSort1(n, arr):\n",
        "    a = arr[-1]\n",
        "    for i in range(n-2, -1, -1):\n",
        "        if arr[i] > a:\n",
        "            arr[i+1] = arr[i]\n",
        "            print(' '.join(map(str, arr)))\n",
        "        else:\n",
        "            arr[i+1] = a\n",
        "            print(' '.join(map(str, arr)))\n",
        "            return\n",
        "    arr[0] = a\n",
        "    print(' '.join(map(str, arr)))"
      ]
    },
    {
      "cell_type": "markdown",
      "source": [
        "#### Esercizio 2.6\n",
        "Insertion Sort - Part 2"
      ],
      "metadata": {
        "id": "cBBrn7Z0Kqem"
      }
    },
    {
      "cell_type": "code",
      "execution_count": null,
      "metadata": {
        "id": "4qAB3rRDKqem"
      },
      "outputs": [],
      "source": [
        "def insertionSort2(n, arr):\n",
        "    for i in range(1, n):\n",
        "        tmp = arr[i]\n",
        "        j = i-1\n",
        "\n",
        "        while j >= 0 and arr[j] > tmp:\n",
        "            arr[j+1] = arr[j]\n",
        "            j -= 1\n",
        "\n",
        "        arr[j+1] = tmp\n",
        "\n",
        "        print(' '.join(map(str, arr)))"
      ]
    }
  ]
}